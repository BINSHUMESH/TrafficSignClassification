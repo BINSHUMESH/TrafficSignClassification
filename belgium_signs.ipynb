{
  "nbformat": 4,
  "nbformat_minor": 0,
  "metadata": {
    "colab": {
      "name": "belgium_signs.ipynb",
      "provenance": [],
      "include_colab_link": true
    },
    "kernelspec": {
      "name": "python3",
      "display_name": "Python 3"
    }
  },
  "cells": [
    {
      "cell_type": "markdown",
      "metadata": {
        "id": "view-in-github",
        "colab_type": "text"
      },
      "source": [
        "<a href=\"https://colab.research.google.com/github/BINSHUMESH/TrafficSignClassification/blob/master/belgium_signs.ipynb\" target=\"_parent\"><img src=\"https://colab.research.google.com/assets/colab-badge.svg\" alt=\"Open In Colab\"/></a>"
      ]
    },
    {
      "cell_type": "code",
      "metadata": {
        "id": "YQ7oz5QKwloI",
        "colab_type": "code",
        "outputId": "adead9ba-8fe3-4cc1-e270-859857dbb422",
        "colab": {
          "base_uri": "https://localhost:8080/",
          "height": 56
        }
      },
      "source": [
        "import tensorflow as tf\n",
        "import os\n",
        "import skimage\n",
        "def load_data(data_directory):\n",
        "  directories=[d for d in os.listdir(data_directory)\n",
        "               if os.path.isdir(os.path.join(data_directory,d))]\n",
        "  print(directories)\n",
        "  labels=[]\n",
        "  images=[]\n",
        "  for d in directories:\n",
        "    label_directory=os.path.join(data_directory,d)\n",
        "    file_names=[os.path.join(label_directory,f)\n",
        "               for f in os.listdir(label_directory)\n",
        "               if f.endswith(\".ppm\")]\n",
        "    for f in file_names:\n",
        "      images.append(skimage.data.imread(f))\n",
        "      labels.append(int(d))\n",
        "  return images,labels\n",
        "ROOT_PATH=\"/content\"\n",
        "train_data_directory=os.path.join(ROOT_PATH,\"/content/Testing\")\n",
        "test_data_directory=os.path.join(ROOT_PATH,\"/content/Training\")\n",
        "images, labels = load_data(test_data_directory)\n",
        "\n"
      ],
      "execution_count": 0,
      "outputs": [
        {
          "output_type": "stream",
          "text": [
            "['00003', '00050', '00040', '00046', '00011', '00061', '00022', '00058', '00034', '00045', '00015', '00055', '00042', '00009', '00008', '00021', '00057', '00029', '00056', '00032', '00002', '00059', '00033', '00028', '00006', '00060', '00036', '00027', '00000', '00053', '00039', '00052', '00010', '00049', '00012', '00047', '00025', '00037', '00023', '00004', '00048', '00016', '00019', '00054', '00031', '00017', '00001', '00024', '00007', '00013', '00041', '00035', '00020', '00005', '00018', '00014', '00038', '00026', '00043', '00030', '00044', '00051']\n"
          ],
          "name": "stdout"
        }
      ]
    },
    {
      "cell_type": "code",
      "metadata": {
        "id": "WoPphT6mEPJI",
        "colab_type": "code",
        "outputId": "1af66168-5e52-485a-b232-022a4b543113",
        "colab": {
          "base_uri": "https://localhost:8080/",
          "height": 54
        }
      },
      "source": [
        "import numpy as np\n",
        "images=np.array(images)\n",
        "print(images.ndim)\n",
        "print(images.size)"
      ],
      "execution_count": 0,
      "outputs": [
        {
          "output_type": "stream",
          "text": [
            "1\n",
            "4575\n"
          ],
          "name": "stdout"
        }
      ]
    },
    {
      "cell_type": "code",
      "metadata": {
        "id": "5qfXs4gvGVh2",
        "colab_type": "code",
        "outputId": "532f887e-3da0-4639-941c-3bf708e74334",
        "colab": {
          "base_uri": "https://localhost:8080/",
          "height": 54
        }
      },
      "source": [
        "labels=np.array(labels)\n",
        "print(labels.ndim)\n",
        "print(len(set(labels)))"
      ],
      "execution_count": 0,
      "outputs": [
        {
          "output_type": "stream",
          "text": [
            "1\n",
            "62\n"
          ],
          "name": "stdout"
        }
      ]
    },
    {
      "cell_type": "code",
      "metadata": {
        "id": "eCA6SfN5G7G2",
        "colab_type": "code",
        "outputId": "5da5bab4-3e5e-436b-ef62-1d9ea858a479",
        "colab": {
          "base_uri": "https://localhost:8080/",
          "height": 269
        }
      },
      "source": [
        "import matplotlib.pyplot as plt\n",
        "plt.hist(labels,62)\n",
        "plt.show()\n"
      ],
      "execution_count": 0,
      "outputs": [
        {
          "output_type": "display_data",
          "data": {
            "image/png": "[encoded data removed]",
            "text/plain": [
              "<Figure size 432x288 with 1 Axes>"
            ]
          },
          "metadata": {
            "tags": []
          }
        }
      ]
    },
    {
      "cell_type": "code",
      "metadata": {
        "id": "tj1Fp5rmI_b9",
        "colab_type": "code",
        "colab": {}
      },
      "source": [
        "traffic_signs=[300,2250,3650,4000]\n",
        "def show(images,cmap):\n",
        "  for i in range(len(traffic_signs)):\n",
        "    plt.subplot(1,4,i+1)\n",
        "    plt.axis('off')\n",
        "    plt.imshow(images[traffic_signs[i]],cmap=cmap)\n",
        "    plt.subplots_adjust(wspace=0.5)\n",
        "  plt.show()"
      ],
      "execution_count": 0,
      "outputs": []
    },
    {
      "cell_type": "code",
      "metadata": {
        "id": "vA8EGeXkM1XF",
        "colab_type": "code",
        "outputId": "5adbf0ca-c642-4dc3-d453-93414ce00981",
        "colab": {
          "base_uri": "https://localhost:8080/",
          "height": 503
        }
      },
      "source": [
        "for i in range(len(traffic_signs)):\n",
        "  plt.subplot(1,4,i+1)\n",
        "  plt.axis('off')\n",
        "  plt.imshow(images[traffic_signs[i]])\n",
        "  plt.subplots_adjust(wspace=0.5)\n",
        "  plt.show()\n",
        "  print(\"shape: {0}, min: {1}, max: {2}\".format(images[traffic_signs[i]].shape,\n",
        "                                               images[traffic_signs[i]].min(),\n",
        "                                               images[traffic_signs[i]].max()))  "
      ],
      "execution_count": 0,
      "outputs": [
        {
          "output_type": "display_data",
          "data": {
            "image/png": "[encoded data removed]",
            "text/plain": [
              "<Figure size 432x288 with 1 Axes>"
            ]
          },
          "metadata": {
            "tags": []
          }
        },
        {
          "output_type": "stream",
          "text": [
            "shape: (118, 84, 3), min: 0, max: 255\n"
          ],
          "name": "stdout"
        },
        {
          "output_type": "display_data",
          "data": {
            "image/png": "[encoded data removed]",
            "text/plain": [
              "<Figure size 432x288 with 1 Axes>"
            ]
          },
          "metadata": {
            "tags": []
          }
        },
        {
          "output_type": "stream",
          "text": [
            "shape: (80, 74, 3), min: 8, max: 255\n"
          ],
          "name": "stdout"
        },
        {
          "output_type": "display_data",
          "data": {
            "image/png": "[encoded data removed]",
            "text/plain": [
              "<Figure size 432x288 with 1 Axes>"
            ]
          },
          "metadata": {
            "tags": []
          }
        },
        {
          "output_type": "stream",
          "text": [
            "shape: (119, 128, 3), min: 0, max: 255\n"
          ],
          "name": "stdout"
        },
        {
          "output_type": "display_data",
          "data": {
            "image/png": "[encoded data removed]",
            "text/plain": [
              "<Figure size 432x288 with 1 Axes>"
            ]
          },
          "metadata": {
            "tags": []
          }
        },
        {
          "output_type": "stream",
          "text": [
            "shape: (184, 172, 3), min: 12, max: 255\n"
          ],
          "name": "stdout"
        }
      ]
    },
    {
      "cell_type": "code",
      "metadata": {
        "id": "gX0M4u1dWU8I",
        "colab_type": "code",
        "colab": {}
      },
      "source": [
        "from skimage import transform\n",
        "images28=[transform.resize(image,(28,28)) for image in images]\n",
        "images28=np.array(images28)"
      ],
      "execution_count": 0,
      "outputs": []
    },
    {
      "cell_type": "code",
      "metadata": {
        "id": "TbezNFBtYf5P",
        "colab_type": "code",
        "colab": {}
      },
      "source": [
        "from skimage.color import rgb2gray\n",
        "images28=rgb2gray(images28)"
      ],
      "execution_count": 0,
      "outputs": []
    },
    {
      "cell_type": "code",
      "metadata": {
        "id": "hOBf_ZBuYwDY",
        "colab_type": "code",
        "outputId": "286d31fb-b028-4275-fbe4-a634416bfbe7",
        "colab": {
          "base_uri": "https://localhost:8080/",
          "height": 112
        }
      },
      "source": [
        "show(images28,\"gray\")"
      ],
      "execution_count": 0,
      "outputs": [
        {
          "output_type": "display_data",
          "data": {
            "image/png": "[encoded data removed]",
            "text/plain": [
              "<Figure size 432x288 with 4 Axes>"
            ]
          },
          "metadata": {
            "tags": []
          }
        }
      ]
    },
    {
      "cell_type": "code",
      "metadata": {
        "id": "vLQdhAbmaLiU",
        "colab_type": "code",
        "colab": {}
      },
      "source": [
        "x=tf.placeholder(dtype=tf.float32, shape=[None,28,28])\n",
        "y=tf.placeholder(dtype=tf.int32, shape=[None])\n",
        "images_flatten=tf.contrib.layers.flatten(x)\n",
        "logits=tf.contrib.layers.fully_connected(images_flatten,62,tf.nn.relu)\n",
        "loss=tf.reduce_mean(tf.nn.sparse_softmax_cross_entropy_with_logits(labels=y,logits=logits))\n",
        "train_op=tf.train.AdamOptimizer(learning_rate=0.001).minimize(loss)\n",
        "correct_pred=tf.argmax(logits,1)\n",
        "accuracy=tf.reduce_mean(tf.cast(correct_pred,tf.float32))"
      ],
      "execution_count": 0,
      "outputs": []
    },
    {
      "cell_type": "code",
      "metadata": {
        "id": "YfnIRfCh8aaU",
        "colab_type": "code",
        "outputId": "33835ae9-5810-48dc-d855-26b914cb0b29",
        "colab": {
          "base_uri": "https://localhost:8080/",
          "height": 92
        }
      },
      "source": [
        "print(\"images_flat: \", images_flatten)\n",
        "print(\"logits: \", logits)\n",
        "print(\"loss: \", loss)\n",
        "print(\"predicted_labels: \", correct_pred)"
      ],
      "execution_count": 0,
      "outputs": [
        {
          "output_type": "stream",
          "text": [
            "images_flat:  Tensor(\"Flatten_1/flatten/Reshape:0\", shape=(?, 784), dtype=float32)\n",
            "logits:  Tensor(\"fully_connected/Relu:0\", shape=(?, 62), dtype=float32)\n",
            "loss:  Tensor(\"Mean:0\", shape=(), dtype=float32)\n",
            "predicted_labels:  Tensor(\"ArgMax:0\", shape=(?,), dtype=int64)\n"
          ],
          "name": "stdout"
        }
      ]
    },
    {
      "cell_type": "code",
      "metadata": {
        "id": "VX10b0tl-Z3v",
        "colab_type": "code",
        "outputId": "6dbc5a9e-214c-4237-e2ec-73293ed2aba0",
        "colab": {
          "base_uri": "https://localhost:8080/",
          "height": 1000
        }
      },
      "source": [
        "tf.set_random_seed(1234)\n",
        "sess=tf.Session()\n",
        "sess.run(tf.global_variables_initializer())\n",
        "for i in range(201):\n",
        "  print('EPOCH',i)\n",
        "  _, accuracy_val=sess.run([train_op,accuracy],feed_dict={x: images28,y: labels})\n",
        "  if i % 10 == 0:\n",
        "            print(\"Loss: \", loss)\n",
        "print('DONE WITH EPOCH')"
      ],
      "execution_count": 0,
      "outputs": [
        {
          "output_type": "stream",
          "text": [
            "EPOCH 0\n",
            "Loss:  Tensor(\"Mean_2:0\", shape=(), dtype=float32)\n",
            "EPOCH 1\n",
            "EPOCH 2\n",
            "EPOCH 3\n",
            "EPOCH 4\n",
            "EPOCH 5\n",
            "EPOCH 6\n",
            "EPOCH 7\n",
            "EPOCH 8\n",
            "EPOCH 9\n",
            "EPOCH 10\n",
            "Loss:  Tensor(\"Mean_2:0\", shape=(), dtype=float32)\n",
            "EPOCH 11\n",
            "EPOCH 12\n",
            "EPOCH 13\n",
            "EPOCH 14\n",
            "EPOCH 15\n",
            "EPOCH 16\n",
            "EPOCH 17\n",
            "EPOCH 18\n",
            "EPOCH 19\n",
            "EPOCH 20\n",
            "Loss:  Tensor(\"Mean_2:0\", shape=(), dtype=float32)\n",
            "EPOCH 21\n",
            "EPOCH 22\n",
            "EPOCH 23\n",
            "EPOCH 24\n",
            "EPOCH 25\n",
            "EPOCH 26\n",
            "EPOCH 27\n",
            "EPOCH 28\n",
            "EPOCH 29\n",
            "EPOCH 30\n",
            "Loss:  Tensor(\"Mean_2:0\", shape=(), dtype=float32)\n",
            "EPOCH 31\n",
            "EPOCH 32\n",
            "EPOCH 33\n",
            "EPOCH 34\n",
            "EPOCH 35\n",
            "EPOCH 36\n",
            "EPOCH 37\n",
            "EPOCH 38\n",
            "EPOCH 39\n",
            "EPOCH 40\n",
            "Loss:  Tensor(\"Mean_2:0\", shape=(), dtype=float32)\n",
            "EPOCH 41\n",
            "EPOCH 42\n",
            "EPOCH 43\n",
            "EPOCH 44\n",
            "EPOCH 45\n",
            "EPOCH 46\n",
            "EPOCH 47\n",
            "EPOCH 48\n",
            "EPOCH 49\n",
            "EPOCH 50\n",
            "Loss:  Tensor(\"Mean_2:0\", shape=(), dtype=float32)\n",
            "EPOCH 51\n",
            "EPOCH 52\n",
            "EPOCH 53\n",
            "EPOCH 54\n",
            "EPOCH 55\n",
            "EPOCH 56\n",
            "EPOCH 57\n",
            "EPOCH 58\n",
            "EPOCH 59\n",
            "EPOCH 60\n",
            "Loss:  Tensor(\"Mean_2:0\", shape=(), dtype=float32)\n",
            "EPOCH 61\n",
            "EPOCH 62\n",
            "EPOCH 63\n",
            "EPOCH 64\n",
            "EPOCH 65\n",
            "EPOCH 66\n",
            "EPOCH 67\n",
            "EPOCH 68\n",
            "EPOCH 69\n",
            "EPOCH 70\n",
            "Loss:  Tensor(\"Mean_2:0\", shape=(), dtype=float32)\n",
            "EPOCH 71\n",
            "EPOCH 72\n",
            "EPOCH 73\n",
            "EPOCH 74\n",
            "EPOCH 75\n",
            "EPOCH 76\n",
            "EPOCH 77\n",
            "EPOCH 78\n",
            "EPOCH 79\n",
            "EPOCH 80\n",
            "Loss:  Tensor(\"Mean_2:0\", shape=(), dtype=float32)\n",
            "EPOCH 81\n",
            "EPOCH 82\n",
            "EPOCH 83\n",
            "EPOCH 84\n",
            "EPOCH 85\n",
            "EPOCH 86\n",
            "EPOCH 87\n",
            "EPOCH 88\n",
            "EPOCH 89\n",
            "EPOCH 90\n",
            "Loss:  Tensor(\"Mean_2:0\", shape=(), dtype=float32)\n",
            "EPOCH 91\n",
            "EPOCH 92\n",
            "EPOCH 93\n",
            "EPOCH 94\n",
            "EPOCH 95\n",
            "EPOCH 96\n",
            "EPOCH 97\n",
            "EPOCH 98\n",
            "EPOCH 99\n",
            "EPOCH 100\n",
            "Loss:  Tensor(\"Mean_2:0\", shape=(), dtype=float32)\n",
            "EPOCH 101\n",
            "EPOCH 102\n",
            "EPOCH 103\n",
            "EPOCH 104\n",
            "EPOCH 105\n",
            "EPOCH 106\n",
            "EPOCH 107\n",
            "EPOCH 108\n",
            "EPOCH 109\n",
            "EPOCH 110\n",
            "Loss:  Tensor(\"Mean_2:0\", shape=(), dtype=float32)\n",
            "EPOCH 111\n",
            "EPOCH 112\n",
            "EPOCH 113\n",
            "EPOCH 114\n",
            "EPOCH 115\n",
            "EPOCH 116\n",
            "EPOCH 117\n",
            "EPOCH 118\n",
            "EPOCH 119\n",
            "EPOCH 120\n",
            "Loss:  Tensor(\"Mean_2:0\", shape=(), dtype=float32)\n",
            "EPOCH 121\n",
            "EPOCH 122\n",
            "EPOCH 123\n",
            "EPOCH 124\n",
            "EPOCH 125\n",
            "EPOCH 126\n",
            "EPOCH 127\n",
            "EPOCH 128\n",
            "EPOCH 129\n",
            "EPOCH 130\n",
            "Loss:  Tensor(\"Mean_2:0\", shape=(), dtype=float32)\n",
            "EPOCH 131\n",
            "EPOCH 132\n",
            "EPOCH 133\n",
            "EPOCH 134\n",
            "EPOCH 135\n",
            "EPOCH 136\n",
            "EPOCH 137\n",
            "EPOCH 138\n",
            "EPOCH 139\n",
            "EPOCH 140\n",
            "Loss:  Tensor(\"Mean_2:0\", shape=(), dtype=float32)\n",
            "EPOCH 141\n",
            "EPOCH 142\n",
            "EPOCH 143\n",
            "EPOCH 144\n",
            "EPOCH 145\n",
            "EPOCH 146\n",
            "EPOCH 147\n",
            "EPOCH 148\n",
            "EPOCH 149\n",
            "EPOCH 150\n",
            "Loss:  Tensor(\"Mean_2:0\", shape=(), dtype=float32)\n",
            "EPOCH 151\n",
            "EPOCH 152\n",
            "EPOCH 153\n",
            "EPOCH 154\n",
            "EPOCH 155\n",
            "EPOCH 156\n",
            "EPOCH 157\n",
            "EPOCH 158\n",
            "EPOCH 159\n",
            "EPOCH 160\n",
            "Loss:  Tensor(\"Mean_2:0\", shape=(), dtype=float32)\n",
            "EPOCH 161\n",
            "EPOCH 162\n",
            "EPOCH 163\n",
            "EPOCH 164\n",
            "EPOCH 165\n",
            "EPOCH 166\n",
            "EPOCH 167\n",
            "EPOCH 168\n",
            "EPOCH 169\n",
            "EPOCH 170\n",
            "Loss:  Tensor(\"Mean_2:0\", shape=(), dtype=float32)\n",
            "EPOCH 171\n",
            "EPOCH 172\n",
            "EPOCH 173\n",
            "EPOCH 174\n",
            "EPOCH 175\n",
            "EPOCH 176\n",
            "EPOCH 177\n",
            "EPOCH 178\n",
            "EPOCH 179\n",
            "EPOCH 180\n",
            "Loss:  Tensor(\"Mean_2:0\", shape=(), dtype=float32)\n",
            "EPOCH 181\n",
            "EPOCH 182\n",
            "EPOCH 183\n",
            "EPOCH 184\n",
            "EPOCH 185\n",
            "EPOCH 186\n",
            "EPOCH 187\n",
            "EPOCH 188\n",
            "EPOCH 189\n",
            "EPOCH 190\n",
            "Loss:  Tensor(\"Mean_2:0\", shape=(), dtype=float32)\n",
            "EPOCH 191\n",
            "EPOCH 192\n",
            "EPOCH 193\n",
            "EPOCH 194\n",
            "EPOCH 195\n",
            "EPOCH 196\n",
            "EPOCH 197\n",
            "EPOCH 198\n",
            "EPOCH 199\n",
            "EPOCH 200\n",
            "Loss:  Tensor(\"Mean_2:0\", shape=(), dtype=float32)\n",
            "DONE WITH EPOCH\n"
          ],
          "name": "stdout"
        }
      ]
    },
    {
      "cell_type": "code",
      "metadata": {
        "id": "F2s4vafTBGDn",
        "colab_type": "code",
        "outputId": "2e24ad7d-acd2-48d8-ea03-7970459c9050",
        "colab": {
          "base_uri": "https://localhost:8080/",
          "height": 54
        }
      },
      "source": [
        "import matplotlib.pyplot as plt\n",
        "import random\n",
        "\n",
        "sample_indexes = random.sample(range(len(images28)), 10)\n",
        "sample_images = [images28[i] for i in sample_indexes]\n",
        "sample_labels = [labels[i] for i in sample_indexes]\n",
        "\n",
        "predicted = sess.run([correct_pred], feed_dict={x: sample_images})[0]\n",
        "\n",
        "print(sample_labels)\n",
        "print(predicted)\n"
      ],
      "execution_count": 0,
      "outputs": [
        {
          "output_type": "stream",
          "text": [
            "[35, 38, 45, 41, 25, 10, 41, 13, 20, 8]\n",
            "[28 38 45 41 32 40 41 13 32 61]\n"
          ],
          "name": "stdout"
        }
      ]
    },
    {
      "cell_type": "code",
      "metadata": {
        "id": "NMLAx7BbGD2U",
        "colab_type": "code",
        "outputId": "9538d881-3006-4928-d0cb-951a4b383d68",
        "colab": {
          "base_uri": "https://localhost:8080/",
          "height": 74
        }
      },
      "source": [
        "from skimage import transform\n",
        "test_images, test_labels = load_data(test_data_directory)\n",
        "test_images28 = [transform.resize(image, (28, 28)) for image in test_images]\n",
        "from skimage.color import rgb2gray\n",
        "test_images28 = rgb2gray(np.array(test_images28))\n",
        "predicted = sess.run([correct_pred], feed_dict={x: test_images28})[0]\n",
        "match_count = sum([int(y == y_) for y, y_ in zip(test_labels, predicted)])\n",
        "accuracy = match_count / len(test_labels)\n",
        "print(\"Accuracy: {:.3f}\".format(accuracy))"
      ],
      "execution_count": 0,
      "outputs": [
        {
          "output_type": "stream",
          "text": [
            "['00003', '00050', '00040', '00046', '00011', '00061', '00022', '00058', '00034', '00045', '00015', '00055', '00042', '00009', '00008', '00021', '00057', '00029', '00056', '00032', '00002', '00059', '00033', '00028', '00006', '00060', '00036', '00027', '00000', '00053', '00039', '00052', '00010', '00049', '00012', '00047', '00025', '00037', '00023', '00004', '00048', '00016', '00019', '00054', '00031', '00017', '00001', '00024', '00007', '00013', '00041', '00035', '00020', '00005', '00018', '00014', '00038', '00026', '00043', '00030', '00044', '00051']\n",
            "Accuracy: 0.715\n"
          ],
          "name": "stdout"
        }
      ]
    }
  ]
}